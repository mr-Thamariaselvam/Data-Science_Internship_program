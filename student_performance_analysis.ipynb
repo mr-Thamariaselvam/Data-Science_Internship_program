{
 "cells": [
  {
   "cell_type": "markdown",
   "id": "cb76e188",
   "metadata": {},
   "source": [
    "# 🧠 Student Performance Data Analysis\n",
    "This notebook analyzes the **student-mat.csv** dataset to explore student performance, study habits, and factors influencing grades.\n",
    "\n",
    "## 🛠 Objectives\n",
    "1. Load Dataset\n",
    "2. Explore & Clean Data\n",
    "3. Answer Key Questions\n",
    "4. Create Visualizations\n",
    "5. Document Findings"
   ]
  },
  {
   "cell_type": "markdown",
   "id": "58aecf27",
   "metadata": {},
   "source": [
    "## Step 1: Import Required Libraries"
   ]
  },
  {
   "cell_type": "code",
   "execution_count": null,
   "id": "6406d7aa",
   "metadata": {},
   "outputs": [],
   "source": [
    "import pandas as pd\n",
    "import numpy as np\n",
    "import matplotlib.pyplot as plt\n",
    "import seaborn as sns\n",
    "\n",
    "print('✅ Libraries imported successfully!')"
   ]
  },
  {
   "cell_type": "markdown",
   "id": "cade4902",
   "metadata": {},
   "source": [
    "## Step 2: Load Dataset"
   ]
  },
  {
   "cell_type": "code",
   "execution_count": null,
   "id": "7a882513",
   "metadata": {},
   "outputs": [],
   "source": [
    "df = pd.read_csv('student-mat.csv')\n",
    "print('✅ Dataset Loaded Successfully!')\n",
    "df.head()"
   ]
  },
  {
   "cell_type": "markdown",
   "id": "d027f816",
   "metadata": {},
   "source": [
    "## Step 3: Explore & Clean Data"
   ]
  },
  {
   "cell_type": "code",
   "execution_count": null,
   "id": "daed746e",
   "metadata": {},
   "outputs": [],
   "source": [
    "print('Dataset Info:')\n",
    "print(df.info())\n",
    "\n",
    "print('\\nDataset Shape:', df.shape)\n",
    "print('\\nMissing Values:\\n', df.isnull().sum())\n",
    "print('\\nDuplicated Rows:', df.duplicated().sum())\n",
    "\n",
    "# Remove duplicates\n",
    "df = df.drop_duplicates()\n",
    "print('✅ Duplicates removed. New shape:', df.shape)"
   ]
  },
  {
   "cell_type": "markdown",
   "id": "003ca257",
   "metadata": {},
   "source": [
    "## Step 4: Descriptive Statistics"
   ]
  },
  {
   "cell_type": "code",
   "execution_count": null,
   "id": "b0f4da19",
   "metadata": {},
   "outputs": [],
   "source": [
    "df.describe()"
   ]
  },
  {
   "cell_type": "markdown",
   "id": "da19df71",
   "metadata": {},
   "source": [
    "## Step 5: Analysis Questions"
   ]
  },
  {
   "cell_type": "code",
   "execution_count": null,
   "id": "47ae0a9b",
   "metadata": {},
   "outputs": [],
   "source": [
    "# 1️⃣ Average final grade (G3)\n",
    "avg_grade = df['G3'].mean()\n",
    "print(f'Average Final Grade (G3): {avg_grade:.2f}')\n",
    "\n",
    "# 2️⃣ How many students scored above 15?\n",
    "above_15 = df[df['G3'] > 15].shape[0]\n",
    "print(f'Students scoring above 15: {above_15}')\n",
    "\n",
    "# 3️⃣ Is study time correlated with performance?\n",
    "corr = df['studytime'].corr(df['G3'])\n",
    "print(f'Correlation between Study Time and Final Grade (G3): {corr:.2f}')\n",
    "\n",
    "# 4️⃣ Which gender performs better on average?\n",
    "gender_perf = df.groupby('sex')['G3'].mean()\n",
    "print('\\nAverage Grade by Gender:\\n', gender_perf)"
   ]
  },
  {
   "cell_type": "markdown",
   "id": "871f75e1",
   "metadata": {},
   "source": [
    "## Step 6: Visualizations"
   ]
  },
  {
   "cell_type": "code",
   "execution_count": null,
   "id": "f2297ab4",
   "metadata": {},
   "outputs": [],
   "source": [
    "plt.figure(figsize=(14, 10))\n",
    "\n",
    "# Histogram of grades\n",
    "plt.subplot(2, 2, 1)\n",
    "plt.hist(df['G3'], bins=10, color='skyblue', edgecolor='black')\n",
    "plt.title('Distribution of Final Grades (G3)')\n",
    "plt.xlabel('Final Grade (G3)')\n",
    "plt.ylabel('Count')\n",
    "\n",
    "# Scatterplot: Study Time vs Grades\n",
    "plt.subplot(2, 2, 2)\n",
    "sns.scatterplot(x='studytime', y='G3', data=df, color='green')\n",
    "plt.title('Study Time vs Final Grade')\n",
    "plt.xlabel('Study Time')\n",
    "plt.ylabel('Final Grade')\n",
    "\n",
    "# Bar chart: Male vs Female Average Score\n",
    "plt.subplot(2, 2, 3)\n",
    "sns.barplot(x='sex', y='G3', data=df, estimator='mean', ci=None, palette='coolwarm')\n",
    "plt.title('Average Final Grade by Gender')\n",
    "plt.xlabel('Gender')\n",
    "plt.ylabel('Average Final Grade')\n",
    "\n",
    "plt.tight_layout()\n",
    "plt.show()"
   ]
  },
  {
   "cell_type": "markdown",
   "id": "ce1fc182",
   "metadata": {},
   "source": [
    "## Step 7: Insights\n",
    "- Average final grade is around **(computed value)**\n",
    "- Number of students scoring above 15: **(computed value)**\n",
    "- Study time has a **weak/moderate/strong** correlation with performance\n",
    "- On average, **Male/Female** students perform slightly better\n",
    "\n",
    "✅ *End of Analysis*"
   ]
  }
 ],
 "metadata": {},
 "nbformat": 4,
 "nbformat_minor": 5
}
